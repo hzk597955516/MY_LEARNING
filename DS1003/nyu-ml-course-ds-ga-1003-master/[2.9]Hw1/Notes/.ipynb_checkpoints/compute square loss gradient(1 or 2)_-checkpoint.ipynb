{
 "cells": [
  {
   "cell_type": "markdown",
   "metadata": {},
   "source": [
    "### 1 or 2?\n",
    "\n",
    "It is question in homework1(Machine Learning, DS-GA 1003, Spring 2019), 3.4 Batch Gradient Descent. The question is that if I change the scalar coefficient of the cost function from 1/2 to 1, the gradient decent will fail. This sounds impossible, but I just met it and now let's me give an description about it.\n",
    "\n"
   ]
  },
  {
   "cell_type": "markdown",
   "metadata": {},
   "source": [
    "We know that:\n",
    "$$J(\\theta) = \\frac{1}{2m}(x \\theta - y)^{T}(x \\theta - y)$$\n",
    "$$J(\\theta) = \\frac{1}{m} (x \\theta - y)^{T} \\frac{\\partial (x \\theta - y)}{\\partial \\theta} = \\frac{1}{m} (x \\theta - y)^T x$$\n",
    "\n",
    "if we change the scalar coefficient of cost function to `1/m`, that's alright, and we get:\n",
    "$$J(\\theta) = \\frac{1}{m}(x \\theta - y)^{T}(x \\theta - y)$$\n",
    "$$J(\\theta) = \\frac{2}{m} (x \\theta - y)^{T} \\frac{\\partial (x \\theta - y)}{\\partial \\theta} = \\frac{2}{m} (x \\theta - y)^T x$$"
   ]
  },
  {
   "cell_type": "markdown",
   "metadata": {},
   "source": [
    "The code are as follows. \n",
    "\n",
    "Firstly, the data and `feature_normalization` function are same."
   ]
  },
  {
   "cell_type": "code",
   "execution_count": 1,
   "metadata": {
    "ExecuteTime": {
     "end_time": "2019-07-29T03:02:27.297819Z",
     "start_time": "2019-07-29T03:02:17.438125Z"
    }
   },
   "outputs": [
    {
     "name": "stdout",
     "output_type": "stream",
     "text": [
      "Split into Train and Test\n",
      "Scaling all to [0, 1]\n"
     ]
    }
   ],
   "source": [
    "import sys\n",
    "import numpy as np\n",
    "import pandas as pd\n",
    "import matplotlib.pyplot as plt\n",
    "from sklearn.model_selection import train_test_split\n",
    "\n",
    "# Feature normalization\n",
    "def feature_normalization(train, test):\n",
    "    \"\"\"Rescale the data so that each feature in the training set is in\n",
    "    the interval [0,1], and apply the same transformations to the test\n",
    "    set, using the statistics computed on the training set.\n",
    "\n",
    "    Args:\n",
    "        train - training set, a 2D numpy array\n",
    "                of size (num_instances, num_features)\n",
    "        test - test set, a 2D numpy array\n",
    "                of size (num_instances, num_features)\n",
    "\n",
    "    Returns:\n",
    "        train_normalized - training set after normalization\n",
    "        test_normalized - test set after normalization\n",
    "\n",
    "    Example:\n",
    "    >>> data = np.array([[-1, 2], [-0.5, 6], [0, 10], [1, 18]])\n",
    "    >>> train_normalized, _ = feature_normalization(data, data)\n",
    "    >>> train_normalized\n",
    "    array([[0.  , 0.  ],\n",
    "           [0.25, 0.25],\n",
    "           [0.5 , 0.5 ],\n",
    "           [1.  , 1.  ]])\n",
    "    \"\"\"\n",
    "    train_normalized = \\\n",
    "        (train - train.min(axis=0)) / (train.max(axis=0) - train.min(axis=0))\n",
    "    test_normalized = \\\n",
    "        (test - train.min(axis=0)) / (train.max(axis=0) - train.min(axis=0))\n",
    "    return train_normalized, test_normalized\n",
    "\n",
    "# read data\n",
    "df = pd.read_csv('data.csv', delimiter=',')\n",
    "X = df.values[:, :-1]\n",
    "y = df.values[:, -1]\n",
    "\n",
    "print('Split into Train and Test')\n",
    "X_train, X_test, y_train, y_test = train_test_split(X,\n",
    "                                                    y,\n",
    "                                                    test_size=100,\n",
    "                                                    random_state=10)\n",
    "\n",
    "print(\"Scaling all to [0, 1]\")\n",
    "X_train, X_test = feature_normalization(X_train, X_test)\n",
    "X_train = np.hstack((X_train, np.ones(\n",
    "    (X_train.shape[0], 1))))  # Add bias term\n",
    "X_test = np.hstack((X_test, np.ones(\n",
    "    (X_test.shape[0], 1))))  # Add bias term"
   ]
  },
  {
   "cell_type": "markdown",
   "metadata": {},
   "source": [
    "#### `1/2m` works well"
   ]
  },
  {
   "cell_type": "code",
   "execution_count": 2,
   "metadata": {
    "ExecuteTime": {
     "end_time": "2019-07-29T03:02:27.307705Z",
     "start_time": "2019-07-29T03:02:27.302243Z"
    }
   },
   "outputs": [],
   "source": [
    "#######################################\n",
    "# The square loss function\n",
    "def compute_square_loss(X, y, theta):\n",
    "    \"\"\"\n",
    "    Given a set of X, y, theta, compute the average square loss \n",
    "    for predicting y with X*theta.\n",
    "\n",
    "    Args:\n",
    "        X - the feature vector, 2D numpy array\n",
    "            of size (num_instances, num_features)\n",
    "        y - the label vector, 1D numpy array of size (num_instances)\n",
    "        theta - the parameter vector, 1D array\n",
    "            of size (num_features)\n",
    "\n",
    "    Returns:\n",
    "        loss - the average square loss, scalar\n",
    "\n",
    "    Example:\n",
    "    >>> X = np.array([[1, 2], [2, 4], [3, 6]])\n",
    "    >>> theta = np.array([1, 1])\n",
    "    >>> y = np.array([3, 3, 9])\n",
    "    >>> compute_square_loss(X, y, theta)\n",
    "    3.0\n",
    "    \"\"\"\n",
    "    # Initialize the average square loss\n",
    "    num_instances = X.shape[0]\n",
    "    abs_loss = X @ theta - y\n",
    "    return (0.5 / num_instances) * (abs_loss.T @ abs_loss)\n",
    "\n",
    "# The gradient of the square loss function\n",
    "def compute_square_loss_gradient(X, y, theta):\n",
    "    \"\"\"\n",
    "    Compute the gradient of the average square loss\n",
    "    (as defined in compute_square_loss), at the point theta.\n",
    "\n",
    "    Args:\n",
    "        X - the feature vector, 2D numpy array\n",
    "            of size (num_instances, num_features)\n",
    "        y - the label vector, 1D numpy array of size (num_instances)\n",
    "        theta - the parameter vector, 1D numpy array of size (num_features)\n",
    "\n",
    "    Returns:\n",
    "        grad - gradient vector, 1D numpy array of size (num_features)\n",
    "    \"\"\"\n",
    "    num_instances = X.shape[0]\n",
    "    return 1 / num_instances * (X @ theta - y).T @ X"
   ]
  },
  {
   "cell_type": "markdown",
   "metadata": {},
   "source": [
    "Note that the gradient's coefficient is `1 / num_instances` because we use `1/2m` in cost function.\n",
    "\n",
    "And we can see this works well."
   ]
  },
  {
   "cell_type": "code",
   "execution_count": 3,
   "metadata": {
    "ExecuteTime": {
     "end_time": "2019-07-29T03:02:27.859518Z",
     "start_time": "2019-07-29T03:02:27.310455Z"
    }
   },
   "outputs": [],
   "source": [
    "def batch_grad_descent(X, y, alpha=0.1, num_step=1000, grad_check=False):\n",
    "    \"\"\"\n",
    "    In this question you will implement batch gradient descent to\n",
    "    minimize the average square loss objective.\n",
    "\n",
    "    Args:\n",
    "        X - the feature vector, 2D numpy array\n",
    "            of size (num_instances, num_features)\n",
    "        y - the label vector, 1D numpy array of size (num_instances)\n",
    "        alpha - step size in gradient descent\n",
    "        num_step - number of steps to run\n",
    "        grad_check - a boolean value indicating whether checking\n",
    "                     the gradient when updating\n",
    "\n",
    "    Returns:\n",
    "        theta_hist - the history of parameter vector,\n",
    "                    2D numpy array of size (num_step+1, num_features)\n",
    "                    for instance, theta in step 0 should be theta_hist[0],\n",
    "                    theta in step (num_step) is theta_hist[-1]\n",
    "        loss_hist - the history of average square loss on the data,\n",
    "                    1D numpy array, (num_step+1)\n",
    "    \"\"\"\n",
    "    _, num_features = X.shape[0], X.shape[1]\n",
    "    # Initialize theta_hist\n",
    "    theta_hist = np.zeros((num_step + 1, num_features))\n",
    "    # Initialize loss_hist\n",
    "    loss_hist = np.zeros(num_step + 1)\n",
    "    # Initialize theta\n",
    "    theta = np.zeros(num_features)\n",
    "    for step_i in range(num_step + 1):\n",
    "        theta_hist[step_i, ] = theta\n",
    "        loss_hist[step_i] = compute_square_loss(X, y, theta)\n",
    "        if grad_check:\n",
    "            assert grad_checker(X, y, theta)\n",
    "        theta -= compute_square_loss_gradient(X, y, theta) * alpha\n",
    "    return theta_hist, loss_hist"
   ]
  },
  {
   "cell_type": "code",
   "execution_count": 4,
   "metadata": {
    "ExecuteTime": {
     "end_time": "2019-07-29T03:02:28.022368Z",
     "start_time": "2019-07-29T03:02:27.867086Z"
    }
   },
   "outputs": [],
   "source": [
    "theta_hist, loss_hist = batch_grad_descent(X_train, y_train)"
   ]
  },
  {
   "cell_type": "code",
   "execution_count": 5,
   "metadata": {
    "ExecuteTime": {
     "end_time": "2019-07-29T03:02:28.094484Z",
     "start_time": "2019-07-29T03:02:28.024913Z"
    }
   },
   "outputs": [
    {
     "data": {
      "text/plain": [
       "array([3.98075917, 3.91325976, 3.85188424, ..., 1.03900245, 1.03892598,\n",
       "       1.03884969])"
      ]
     },
     "execution_count": 5,
     "metadata": {},
     "output_type": "execute_result"
    }
   ],
   "source": [
    "loss_hist"
   ]
  },
  {
   "cell_type": "markdown",
   "metadata": {},
   "source": [
    "#### `1/m` works bad\n",
    "\n",
    "here we hold everything unchanged except the `compute_square_loss_gradient` function, we just change the `1` in last line to `2`. After that, everything changed..."
   ]
  },
  {
   "cell_type": "code",
   "execution_count": 6,
   "metadata": {
    "ExecuteTime": {
     "end_time": "2019-07-29T03:02:28.192554Z",
     "start_time": "2019-07-29T03:02:28.097152Z"
    }
   },
   "outputs": [],
   "source": [
    "# The gradient of the square loss function\n",
    "def compute_square_loss_gradient(X, y, theta):\n",
    "    \"\"\"\n",
    "    Compute the gradient of the average square loss\n",
    "    (as defined in compute_square_loss), at the point theta.\n",
    "\n",
    "    Args:\n",
    "        X - the feature vector, 2D numpy array\n",
    "            of size (num_instances, num_features)\n",
    "        y - the label vector, 1D numpy array of size (num_instances)\n",
    "        theta - the parameter vector, 1D numpy array of size (num_features)\n",
    "\n",
    "    Returns:\n",
    "        grad - gradient vector, 1D numpy array of size (num_features)\n",
    "    \"\"\"\n",
    "    num_instances = X.shape[0]\n",
    "    return 2 / num_instances * (X @ theta - y).T @ X"
   ]
  },
  {
   "cell_type": "code",
   "execution_count": 7,
   "metadata": {
    "ExecuteTime": {
     "end_time": "2019-07-29T03:02:28.342529Z",
     "start_time": "2019-07-29T03:02:28.194538Z"
    }
   },
   "outputs": [
    {
     "name": "stderr",
     "output_type": "stream",
     "text": [
      "/home/shensir/anaconda3/lib/python3.6/site-packages/ipykernel_launcher.py:28: RuntimeWarning: overflow encountered in matmul\n",
      "/home/shensir/anaconda3/lib/python3.6/site-packages/ipykernel_launcher.py:27: RuntimeWarning: overflow encountered in matmul\n",
      "/home/shensir/anaconda3/lib/python3.6/site-packages/ipykernel_launcher.py:17: RuntimeWarning: overflow encountered in matmul\n",
      "/home/shensir/anaconda3/lib/python3.6/site-packages/ipykernel_launcher.py:17: RuntimeWarning: invalid value encountered in matmul\n",
      "/home/shensir/anaconda3/lib/python3.6/site-packages/ipykernel_launcher.py:27: RuntimeWarning: invalid value encountered in matmul\n"
     ]
    }
   ],
   "source": [
    "theta_hist_2, loss_hist_2 = batch_grad_descent(X_train, y_train)"
   ]
  },
  {
   "cell_type": "code",
   "execution_count": 8,
   "metadata": {
    "ExecuteTime": {
     "end_time": "2019-07-29T03:02:28.423908Z",
     "start_time": "2019-07-29T03:02:28.345912Z"
    }
   },
   "outputs": [
    {
     "data": {
      "text/plain": [
       "array([3.98075917, 3.98386419, 5.04193667, ...,        nan,        nan,\n",
       "              nan])"
      ]
     },
     "execution_count": 8,
     "metadata": {},
     "output_type": "execute_result"
    }
   ],
   "source": [
    "loss_hist_2"
   ]
  },
  {
   "cell_type": "code",
   "execution_count": 9,
   "metadata": {
    "ExecuteTime": {
     "end_time": "2019-07-29T03:02:28.725212Z",
     "start_time": "2019-07-29T03:02:28.426345Z"
    }
   },
   "outputs": [
    {
     "data": {
      "image/png": "[encoded data removed]",
      "text/plain": [
       "<matplotlib.figure.Figure at 0x7fb3302c96a0>"
      ]
     },
     "metadata": {
      "needs_background": "light"
     },
     "output_type": "display_data"
    }
   ],
   "source": [
    "# the plot\n",
    "plt.plot(loss_hist_2)\n",
    "plt.show()"
   ]
  },
  {
   "cell_type": "markdown",
   "metadata": {},
   "source": [
    "So I am very confusing, and I don't know where is the problem. Any help will be appreciated."
   ]
  }
 ],
 "metadata": {
  "kernelspec": {
   "display_name": "Python 3",
   "language": "python",
   "name": "python3"
  },
  "language_info": {
   "codemirror_mode": {
    "name": "ipython",
    "version": 3
   },
   "file_extension": ".py",
   "mimetype": "text/x-python",
   "name": "python",
   "nbconvert_exporter": "python",
   "pygments_lexer": "ipython3",
   "version": "3.6.8"
  },
  "toc": {
   "nav_menu": {},
   "number_sections": false,
   "sideBar": true,
   "skip_h1_title": false,
   "title_cell": "Table of Contents",
   "title_sidebar": "Contents",
   "toc_cell": false,
   "toc_position": {},
   "toc_section_display": true,
   "toc_window_display": true
  }
 },
 "nbformat": 4,
 "nbformat_minor": 2
}
