{
 "cells": [
  {
   "cell_type": "markdown",
   "metadata": {},
   "source": [
    "### Hw3"
   ]
  },
  {
   "cell_type": "markdown",
   "metadata": {},
   "source": [
    "#### 4. The Data"
   ]
  },
  {
   "cell_type": "code",
   "execution_count": 1,
   "metadata": {
    "ExecuteTime": {
     "end_time": "2019-09-17T23:59:10.667085Z",
     "start_time": "2019-09-17T23:59:08.140523Z"
    }
   },
   "outputs": [],
   "source": [
    "from load import shuffle_data"
   ]
  },
  {
   "cell_type": "code",
   "execution_count": 2,
   "metadata": {
    "ExecuteTime": {
     "end_time": "2019-09-17T23:59:17.465299Z",
     "start_time": "2019-09-17T23:59:11.853518Z"
    },
    "scrolled": true
   },
   "outputs": [],
   "source": [
    "shuffled_data = shuffle_data()"
   ]
  },
  {
   "cell_type": "code",
   "execution_count": 3,
   "metadata": {
    "ExecuteTime": {
     "end_time": "2019-09-17T23:59:17.473319Z",
     "start_time": "2019-09-17T23:59:17.468133Z"
    }
   },
   "outputs": [],
   "source": [
    "# split to train and validation data\n",
    "train_data = shuffled_data[:1500]\n",
    "val_data = shuffled_data[1500:]"
   ]
  },
  {
   "cell_type": "code",
   "execution_count": 4,
   "metadata": {
    "ExecuteTime": {
     "end_time": "2019-09-17T23:59:18.442789Z",
     "start_time": "2019-09-17T23:59:18.382427Z"
    }
   },
   "outputs": [],
   "source": [
    "# sep X and y\n",
    "X_train = [rec[:-1] for rec in train_data]\n",
    "y_train = [rec[-1] for rec in train_data]\n",
    "X_val = [rec[:-1] for rec in val_data]\n",
    "y_val = [rec[-1] for rec in val_data]"
   ]
  },
  {
   "cell_type": "markdown",
   "metadata": {},
   "source": [
    "#### 5. Sparse Representation"
   ]
  },
  {
   "cell_type": "code",
   "execution_count": 5,
   "metadata": {
    "ExecuteTime": {
     "end_time": "2019-09-17T23:59:20.193793Z",
     "start_time": "2019-09-17T23:59:20.189176Z"
    }
   },
   "outputs": [],
   "source": [
    "from collections import Counter\n",
    "def bag_words(words):\n",
    "    return Counter(words)"
   ]
  },
  {
   "cell_type": "code",
   "execution_count": 6,
   "metadata": {
    "ExecuteTime": {
     "end_time": "2019-09-17T23:59:21.452066Z",
     "start_time": "2019-09-17T23:59:21.429219Z"
    },
    "scrolled": true
   },
   "outputs": [
    {
     "data": {
      "text/plain": [
       "Counter({'if': 6,\n",
       "         'i': 23,\n",
       "         'were': 3,\n",
       "         'one': 4,\n",
       "         'of': 21,\n",
       "         'those': 1,\n",
       "         'arrogant': 1,\n",
       "         'critics': 1,\n",
       "         'who': 4,\n",
       "         'thinks': 1,\n",
       "         'his': 5,\n",
       "         'review': 2,\n",
       "         'has': 3,\n",
       "         'some': 4,\n",
       "         'great': 1,\n",
       "         'impact': 1,\n",
       "         'on': 6,\n",
       "         'the': 57,\n",
       "         'success': 1,\n",
       "         'or': 5,\n",
       "         'failure': 1,\n",
       "         'certain': 1,\n",
       "         'films': 1,\n",
       "         'might': 3,\n",
       "         'say': 4,\n",
       "         'that': 18,\n",
       "         'movies': 5,\n",
       "         \"don't\": 5,\n",
       "         'look': 1,\n",
       "         'particularly': 1,\n",
       "         'good': 3,\n",
       "         'because': 4,\n",
       "         \"i'm\": 3,\n",
       "         'doing': 1,\n",
       "         'a': 39,\n",
       "         'service': 1,\n",
       "         'to': 30,\n",
       "         'my': 2,\n",
       "         'readers': 1,\n",
       "         'by': 3,\n",
       "         'warning': 1,\n",
       "         'them': 5,\n",
       "         'against': 1,\n",
       "         'seeing': 5,\n",
       "         'it': 14,\n",
       "         'true': 1,\n",
       "         'could': 2,\n",
       "         'put': 1,\n",
       "         'banner': 1,\n",
       "         'at': 4,\n",
       "         'top': 1,\n",
       "         'site': 1,\n",
       "         'reads': 1,\n",
       "         'shay': 1,\n",
       "         'casey': 1,\n",
       "         'bad': 7,\n",
       "         'so': 4,\n",
       "         'you': 19,\n",
       "         'have': 12,\n",
       "         'but': 9,\n",
       "         'know': 3,\n",
       "         \"that's\": 6,\n",
       "         \"bunkyou're\": 1,\n",
       "         'going': 3,\n",
       "         'see': 4,\n",
       "         'whatever': 2,\n",
       "         'want': 3,\n",
       "         'no': 4,\n",
       "         'matter': 1,\n",
       "         'what': 9,\n",
       "         'tell': 2,\n",
       "         'truth': 2,\n",
       "         'every': 5,\n",
       "         'once': 2,\n",
       "         'in': 18,\n",
       "         'while': 1,\n",
       "         'get': 4,\n",
       "         'nasty': 1,\n",
       "         'masochistic': 1,\n",
       "         'urge': 1,\n",
       "         'movie': 6,\n",
       "         'feeling': 1,\n",
       "         'when': 4,\n",
       "         \"you're\": 2,\n",
       "         'sick': 1,\n",
       "         'all': 5,\n",
       "         'these': 3,\n",
       "         'damn': 1,\n",
       "         'academy': 1,\n",
       "         'award': 1,\n",
       "         'contenders': 1,\n",
       "         'and': 24,\n",
       "         'something': 5,\n",
       "         'can': 2,\n",
       "         'ball': 1,\n",
       "         'trashing': 1,\n",
       "         'mercilessly': 1,\n",
       "         'sometimes': 2,\n",
       "         'think': 3,\n",
       "         'why': 2,\n",
       "         'anyone': 1,\n",
       "         'goes': 1,\n",
       "         'pauly': 1,\n",
       "         'shore': 1,\n",
       "         'ever': 3,\n",
       "         'admit': 1,\n",
       "         'like': 6,\n",
       "         'do': 3,\n",
       "         'saw': 1,\n",
       "         'supernova': 7,\n",
       "         'be': 7,\n",
       "         'told': 2,\n",
       "         \"wasn't\": 2,\n",
       "         'quite': 1,\n",
       "         'as': 9,\n",
       "         'thought': 2,\n",
       "         'maybe': 5,\n",
       "         'just': 6,\n",
       "         'felt': 1,\n",
       "         'sorry': 1,\n",
       "         'for': 5,\n",
       "         'actors': 2,\n",
       "         'been': 3,\n",
       "         'decent': 1,\n",
       "         'studio': 1,\n",
       "         \"hadn't\": 1,\n",
       "         'started': 1,\n",
       "         'tinkering': 1,\n",
       "         'with': 14,\n",
       "         \"director's\": 1,\n",
       "         'walter': 1,\n",
       "         'hill': 1,\n",
       "         'final': 1,\n",
       "         'cut': 2,\n",
       "         'causing': 1,\n",
       "         'him': 4,\n",
       "         'name': 2,\n",
       "         'removed': 2,\n",
       "         'becoming': 1,\n",
       "         'softy': 1,\n",
       "         'any': 4,\n",
       "         'case': 1,\n",
       "         \"didn't\": 2,\n",
       "         'find': 3,\n",
       "         'advance': 1,\n",
       "         'buzz': 1,\n",
       "         'would': 1,\n",
       "         'me': 2,\n",
       "         'believe': 1,\n",
       "         \"it's\": 6,\n",
       "         'still': 1,\n",
       "         'film': 9,\n",
       "         'takes': 1,\n",
       "         'place': 2,\n",
       "         'aboard': 1,\n",
       "         'medical': 3,\n",
       "         'space': 2,\n",
       "         'vessel': 1,\n",
       "         'nightingale': 1,\n",
       "         'crew': 3,\n",
       "         'includes': 1,\n",
       "         'captain': 2,\n",
       "         'j': 1,\n",
       "         'marley': 1,\n",
       "         'robert': 2,\n",
       "         'forster': 2,\n",
       "         'new': 1,\n",
       "         'second': 2,\n",
       "         'officer': 2,\n",
       "         'nick': 2,\n",
       "         'vanzant': 1,\n",
       "         'james': 2,\n",
       "         'spader': 3,\n",
       "         'head': 1,\n",
       "         'kaela': 3,\n",
       "         'evers': 1,\n",
       "         'angela': 1,\n",
       "         'bassett': 3,\n",
       "         'technicians': 1,\n",
       "         'yerzy': 4,\n",
       "         'penalosa': 1,\n",
       "         'lou': 1,\n",
       "         'diamond': 1,\n",
       "         'phillips': 3,\n",
       "         'danika': 3,\n",
       "         'lund': 1,\n",
       "         'robin': 1,\n",
       "         'tunney': 4,\n",
       "         'computer': 4,\n",
       "         'technician': 1,\n",
       "         'benj': 2,\n",
       "         'sotomejor': 1,\n",
       "         'wilson': 1,\n",
       "         'cruz': 2,\n",
       "         'there': 4,\n",
       "         'are': 3,\n",
       "         'attempts': 1,\n",
       "         'characterization': 1,\n",
       "         'means': 1,\n",
       "         'is': 16,\n",
       "         'shady': 1,\n",
       "         'past': 1,\n",
       "         'involving': 1,\n",
       "         'drug': 1,\n",
       "         'addiction': 1,\n",
       "         'which': 3,\n",
       "         'puts': 1,\n",
       "         'edge': 1,\n",
       "         'relationship': 3,\n",
       "         'requires': 1,\n",
       "         'make': 3,\n",
       "         'kissyfaces': 1,\n",
       "         'each': 2,\n",
       "         'other': 2,\n",
       "         'five': 1,\n",
       "         'minutes': 4,\n",
       "         'apparently': 2,\n",
       "         'gay': 1,\n",
       "         'love': 2,\n",
       "         'female': 2,\n",
       "         'expect': 3,\n",
       "         'more': 5,\n",
       "         'explanation': 1,\n",
       "         \"won't\": 2,\n",
       "         'anyway': 1,\n",
       "         'gets': 1,\n",
       "         'distress': 2,\n",
       "         'call': 1,\n",
       "         'from': 3,\n",
       "         'location': 1,\n",
       "         'deep': 1,\n",
       "         'failed': 1,\n",
       "         'mining': 1,\n",
       "         'operation': 1,\n",
       "         'had': 3,\n",
       "         'sent': 2,\n",
       "         'during': 2,\n",
       "         'dimension': 1,\n",
       "         'jump': 1,\n",
       "         'called': 1,\n",
       "         'hold': 1,\n",
       "         'killed': 1,\n",
       "         'man': 2,\n",
       "         'signal': 1,\n",
       "         'peter': 2,\n",
       "         'facinelli': 2,\n",
       "         'brought': 2,\n",
       "         'board': 2,\n",
       "         'he': 2,\n",
       "         'calls': 1,\n",
       "         'himself': 1,\n",
       "         'troy': 7,\n",
       "         'larson': 1,\n",
       "         'making': 2,\n",
       "         'supposed': 1,\n",
       "         'son': 1,\n",
       "         'then': 5,\n",
       "         'bunch': 1,\n",
       "         'really': 2,\n",
       "         'predictable': 1,\n",
       "         'stuff': 2,\n",
       "         'starts': 3,\n",
       "         'happening': 1,\n",
       "         'seen': 4,\n",
       "         'alien': 1,\n",
       "         '?': 9,\n",
       "         'event': 1,\n",
       "         'horizon': 1,\n",
       "         'lame': 1,\n",
       "         'its': 1,\n",
       "         'own': 1,\n",
       "         'right': 5,\n",
       "         \"you've\": 1,\n",
       "         'postproduction': 1,\n",
       "         'cuts': 1,\n",
       "         'not': 5,\n",
       "         'nothing': 3,\n",
       "         'original': 1,\n",
       "         'about': 6,\n",
       "         'this': 7,\n",
       "         'screenplay': 1,\n",
       "         'unpredictable': 1,\n",
       "         'either': 1,\n",
       "         'after': 2,\n",
       "         \"one's\": 1,\n",
       "         'turn': 1,\n",
       "         'out': 3,\n",
       "         'villain': 2,\n",
       "         'bigger': 1,\n",
       "         'problem': 1,\n",
       "         \"can'\": 1,\n",
       "         't': 2,\n",
       "         'stick': 1,\n",
       "         'simple': 1,\n",
       "         'plot': 3,\n",
       "         'afforded': 1,\n",
       "         'numerous': 1,\n",
       "         'rewrites': 1,\n",
       "         'script': 2,\n",
       "         'may': 3,\n",
       "         'credited': 1,\n",
       "         'three': 2,\n",
       "         'people': 1,\n",
       "         'gross': 1,\n",
       "         'underestimate': 1,\n",
       "         'crammed': 1,\n",
       "         'lean': 1,\n",
       "         '90minute': 1,\n",
       "         'tons': 1,\n",
       "         'extraneous': 1,\n",
       "         'threads': 1,\n",
       "         'remain': 1,\n",
       "         'underdeveloped': 1,\n",
       "         'was': 3,\n",
       "         'limping': 1,\n",
       "         'robot': 1,\n",
       "         'shaped': 1,\n",
       "         'fighter': 1,\n",
       "         'pilot': 1,\n",
       "         'did': 2,\n",
       "         \"ship's\": 1,\n",
       "         'learn': 1,\n",
       "         'humanity': 1,\n",
       "         'glowing': 1,\n",
       "         'lava': 2,\n",
       "         'lamp': 2,\n",
       "         'artifact': 1,\n",
       "         'does': 3,\n",
       "         \"film's\": 3,\n",
       "         'title': 2,\n",
       "         'signify': 1,\n",
       "         'anything': 2,\n",
       "         'far': 1,\n",
       "         'refers': 1,\n",
       "         'very': 2,\n",
       "         'small': 1,\n",
       "         'detail': 1,\n",
       "         \"isn't\": 2,\n",
       "         'developed': 1,\n",
       "         'rest': 3,\n",
       "         'unnecessary': 1,\n",
       "         'story': 1,\n",
       "         'elements': 1,\n",
       "         'character': 3,\n",
       "         'relationships': 1,\n",
       "         'also': 1,\n",
       "         'little': 2,\n",
       "         'sense': 2,\n",
       "         'reason': 1,\n",
       "         'person': 1,\n",
       "         'keeps': 1,\n",
       "         'having': 2,\n",
       "         'sex': 2,\n",
       "         'we': 2,\n",
       "         'an': 1,\n",
       "         'unusually': 2,\n",
       "         'early': 1,\n",
       "         'scene': 2,\n",
       "         'between': 2,\n",
       "         'within': 1,\n",
       "         'first': 1,\n",
       "         '10': 2,\n",
       "         \"spader's\": 1,\n",
       "         'characters': 2,\n",
       "         'start': 1,\n",
       "         'off': 2,\n",
       "         'hating': 1,\n",
       "         'fifteen': 1,\n",
       "         'bottle': 1,\n",
       "         'pear': 1,\n",
       "         'brandy': 1,\n",
       "         'later': 1,\n",
       "         \"they're\": 2,\n",
       "         'engaging': 1,\n",
       "         'hankypanky': 1,\n",
       "         'creepy': 1,\n",
       "         'stranger': 1,\n",
       "         'shows': 1,\n",
       "         'up': 2,\n",
       "         'ship': 1,\n",
       "         'course': 1,\n",
       "         'both': 1,\n",
       "         'members': 1,\n",
       "         'will': 2,\n",
       "         'fall': 1,\n",
       "         'single': 1,\n",
       "         'shift': 1,\n",
       "         'interaction': 1,\n",
       "         'happens': 1,\n",
       "         'extremely': 1,\n",
       "         'suddenly': 1,\n",
       "         'only': 1,\n",
       "         'many': 1,\n",
       "         'obvious': 2,\n",
       "         'clues': 1,\n",
       "         'how': 1,\n",
       "         'much': 2,\n",
       "         'most': 2,\n",
       "         'prominent': 1,\n",
       "         'example': 1,\n",
       "         'however': 1,\n",
       "         'fact': 1,\n",
       "         'opening': 2,\n",
       "         'credits': 4,\n",
       "         '!': 1,\n",
       "         'furthermore': 1,\n",
       "         'end': 3,\n",
       "         'looks': 1,\n",
       "         'they': 5,\n",
       "         'took': 1,\n",
       "         'originally': 1,\n",
       "         'intended': 1,\n",
       "         'spliced': 1,\n",
       "         'before': 2,\n",
       "         'real': 1,\n",
       "         'mentioned': 1,\n",
       "         'twice': 1,\n",
       "         'over': 2,\n",
       "         'shock': 1,\n",
       "         'being': 1,\n",
       "         'lest': 1,\n",
       "         'decide': 1,\n",
       "         'walk': 1,\n",
       "         'upon': 1,\n",
       "         'discovery': 1,\n",
       "         'notice': 1,\n",
       "         'seems': 1,\n",
       "         'dropped': 1,\n",
       "         'middle': 2,\n",
       "         'littletono': 1,\n",
       "         'introduction': 1,\n",
       "         'situations': 1,\n",
       "         'feels': 1,\n",
       "         'skipped': 1,\n",
       "         'changes': 1,\n",
       "         'where': 1,\n",
       "         'explain': 1,\n",
       "         'things': 1,\n",
       "         'went': 1,\n",
       "         'point': 4,\n",
       "         'b': 2,\n",
       "         'thoroughly': 1,\n",
       "         'enamored': 1,\n",
       "         'ready': 1,\n",
       "         'baby': 1,\n",
       "         'now': 1,\n",
       "         'shagging': 1,\n",
       "         'obsessed': 1,\n",
       "         'thing': 2,\n",
       "         \"doesn't\": 1,\n",
       "         'since': 1,\n",
       "         'understand': 1,\n",
       "         \"characters'\": 1,\n",
       "         'motivations': 1,\n",
       "         'care': 1,\n",
       "         'abruptly': 1,\n",
       "         'murdering': 1,\n",
       "         'onebyone': 1,\n",
       "         'knocking': 1,\n",
       "         'whit': 1,\n",
       "         'shame': 1,\n",
       "         'cast': 2,\n",
       "         'contains': 1,\n",
       "         'lot': 2,\n",
       "         'talented': 1,\n",
       "         'looking': 2,\n",
       "         'line': 1,\n",
       "         'same': 2,\n",
       "         'monotone': 1,\n",
       "         'voice': 1,\n",
       "         'blank': 1,\n",
       "         'expressions': 1,\n",
       "         'their': 2,\n",
       "         'faces': 1,\n",
       "         'sexual': 1,\n",
       "         'tension': 1,\n",
       "         'constipation': 1,\n",
       "         'embarrassed': 1,\n",
       "         'utter': 1,\n",
       "         'such': 1,\n",
       "         'howlers': 1,\n",
       "         'made': 1,\n",
       "         'someone': 1,\n",
       "         'powerful': 1,\n",
       "         'than': 3,\n",
       "         'god': 1,\n",
       "         'whole': 1,\n",
       "         'less': 3,\n",
       "         'nice': 1,\n",
       "         'mind': 1,\n",
       "         'climax': 1,\n",
       "         'taking': 1,\n",
       "         'transport': 1,\n",
       "         'pod': 1,\n",
       "         'probably': 2,\n",
       "         'biggest': 1,\n",
       "         'foreheadslapper': 1,\n",
       "         'inhabits': 1,\n",
       "         'history': 1,\n",
       "         'suspected': 1,\n",
       "         \"he'\": 1,\n",
       "         's': 1,\n",
       "         'awfully': 1,\n",
       "         'onenote': 1,\n",
       "         \"he's\": 1,\n",
       "         'given': 1,\n",
       "         'notes': 1,\n",
       "         'work': 1,\n",
       "         'even': 2,\n",
       "         'stands': 1,\n",
       "         'around': 1,\n",
       "         'cute': 1,\n",
       "         'scared': 1,\n",
       "         'broods': 1,\n",
       "         'flirts': 1,\n",
       "         'die': 1,\n",
       "         'star': 1,\n",
       "         'blows': 1,\n",
       "         'paying': 1,\n",
       "         'attention': 1,\n",
       "         'pretty': 1,\n",
       "         'awful': 1,\n",
       "         'cutting': 1,\n",
       "         'slack': 1,\n",
       "         'merely': 1,\n",
       "         'expected': 1,\n",
       "         'got': 1,\n",
       "         'reasons': 1,\n",
       "         \"you'll\": 1,\n",
       "         'hate': 1,\n",
       "         'special': 1,\n",
       "         'effects': 1,\n",
       "         'fairly': 1,\n",
       "         'unimpressive': 1,\n",
       "         \"haven'\": 1,\n",
       "         'suffice': 1,\n",
       "         'save': 1,\n",
       "         'honestly': 1,\n",
       "         'though': 1,\n",
       "         'dozen': 1,\n",
       "         'writers': 1,\n",
       "         'director': 1,\n",
       "         'replaced': 1,\n",
       "         'pseudonym': 1,\n",
       "         'usually': 1,\n",
       "         'results': 1})"
      ]
     },
     "execution_count": 6,
     "metadata": {},
     "output_type": "execute_result"
    }
   ],
   "source": [
    "# test it\n",
    "bag_words(X_train[0])"
   ]
  },
  {
   "cell_type": "markdown",
   "metadata": {},
   "source": [
    "#### 6. Support Vector Machine via Pegasos"
   ]
  },
  {
   "cell_type": "markdown",
   "metadata": {},
   "source": [
    "##### 6.4 Pegasos"
   ]
  },
  {
   "cell_type": "code",
   "execution_count": 11,
   "metadata": {
    "ExecuteTime": {
     "end_time": "2019-09-18T00:02:27.969181Z",
     "start_time": "2019-09-18T00:02:27.957979Z"
    }
   },
   "outputs": [],
   "source": [
    "from collections import defaultdict\n",
    "from util import dotProduct, increment\n",
    "\n",
    "def pegasos(X_train, y_train, max_step=1000, lamb_reg=0.1):\n",
    "    epoch = 0\n",
    "    t = 1\n",
    "    w = defaultdict(float)\n",
    "    while epoch < max_step:\n",
    "        epoch += 1\n",
    "        for i, x_i in enumerate(X_train):\n",
    "            t += 1\n",
    "            eta = 1 / (t * lamb_reg)\n",
    "            x_i = bag_words(x_i)\n",
    "            y_i = y_train[i]\n",
    "            increment(w, -eta * lamb_reg, w)\n",
    "            if y_i * dotProduct(w, x_i) < 1:\n",
    "                increment(w, eta*y_i, x_i)\n",
    "    return w"
   ]
  },
  {
   "cell_type": "markdown",
   "metadata": {},
   "source": [
    "##### 6.5 Pegasos Accelerated"
   ]
  },
  {
   "cell_type": "code",
   "execution_count": 12,
   "metadata": {
    "ExecuteTime": {
     "end_time": "2019-09-18T00:12:16.345989Z",
     "start_time": "2019-09-18T00:12:16.328359Z"
    }
   },
   "outputs": [],
   "source": [
    "def pegasos_accelerated(X_train, y_train, max_step=1000,\n",
    "                        lamb_reg=0.1, tolerence=1e-4):\n",
    "    epoch = 0\n",
    "    t = 1\n",
    "    s_t = 1\n",
    "    W = defaultdict(float)\n",
    "    while epoch < max_step:\n",
    "        epoch += 1\n",
    "        # for convergence checking\n",
    "        check_w = defaultdict(float)\n",
    "        for i, x_i in enumerate(X_train):\n",
    "            t += 1\n",
    "            x_i = bag_words(x_i)\n",
    "            eta = 1 / (t * lamb_reg)\n",
    "            y_i = y_train[i]\n",
    "            s_t = (1 - eta * lamb_reg) * s_t\n",
    "            if y_i * dotProduct(W, x_i) < 1:\n",
    "                increment(W, (1/s_t) * eta * y_i, x_i)\n",
    "                increment(check_w, (1/s_t) * eta * y_i, x_i)\n",
    "        if sum(weight**2 for weight in check_w.values()) < tolerence:\n",
    "            print(f\"Pegasos converge at epoch {epoch}\")\n",
    "            break\n",
    "    W.update((x, y*s_t) for x, y in W.items())\n",
    "    return W"
   ]
  },
  {
   "cell_type": "markdown",
   "metadata": {},
   "source": [
    "##### 6.6 Check\n",
    "这里得到的结果并不一样...并没有找出错误的地方Orz"
   ]
  },
  {
   "cell_type": "code",
   "execution_count": 16,
   "metadata": {
    "ExecuteTime": {
     "end_time": "2019-09-18T00:16:04.787178Z",
     "start_time": "2019-09-18T00:13:14.008062Z"
    }
   },
   "outputs": [],
   "source": [
    "w = pegasos(X_train, y_train, 2)\n",
    "w_acc = pegasos_accelerated(X_train, y_train, 2)"
   ]
  },
  {
   "cell_type": "code",
   "execution_count": 19,
   "metadata": {
    "ExecuteTime": {
     "end_time": "2019-09-18T00:41:29.227754Z",
     "start_time": "2019-09-18T00:41:29.223321Z"
    }
   },
   "outputs": [
    {
     "data": {
      "text/plain": [
       "(0.028664755682954415, 0.01866542230517956)"
      ]
     },
     "execution_count": 19,
     "metadata": {},
     "output_type": "execute_result"
    }
   ],
   "source": [
    "w['fame'], w_acc['fame']"
   ]
  },
  {
   "cell_type": "markdown",
   "metadata": {},
   "source": [
    "##### 6.7 Evaluate"
   ]
  },
  {
   "cell_type": "code",
   "execution_count": 106,
   "metadata": {
    "ExecuteTime": {
     "end_time": "2019-08-09T03:03:08.131884Z",
     "start_time": "2019-08-09T03:03:08.122912Z"
    }
   },
   "outputs": [],
   "source": [
    "import numpy as np\n",
    "\n",
    "def evaluate(w, X_val, y_val):\n",
    "    n = len(y_val)\n",
    "    count = 0\n",
    "    for i in range(n):\n",
    "        x_i = bag_words(X_val[i])\n",
    "        y_i = y_val[i]\n",
    "        if np.sign(dotProduct(w, x_i)) == y_i:\n",
    "            count += 1\n",
    "    return count / n"
   ]
  },
  {
   "cell_type": "code",
   "execution_count": 107,
   "metadata": {
    "ExecuteTime": {
     "end_time": "2019-08-09T03:03:22.052698Z",
     "start_time": "2019-08-09T03:03:14.700070Z"
    }
   },
   "outputs": [
    {
     "name": "stdout",
     "output_type": "stream",
     "text": [
      "Pegasos converge at epoch 25\n"
     ]
    }
   ],
   "source": [
    "w = pegasos_accelerated(X_train, y_train)"
   ]
  },
  {
   "cell_type": "code",
   "execution_count": 108,
   "metadata": {
    "ExecuteTime": {
     "end_time": "2019-08-09T03:03:22.172261Z",
     "start_time": "2019-08-09T03:03:22.055686Z"
    }
   },
   "outputs": [
    {
     "data": {
      "text/plain": [
       "0.832"
      ]
     },
     "execution_count": 108,
     "metadata": {},
     "output_type": "execute_result"
    }
   ],
   "source": [
    "# 准确率\n",
    "evaluate(w, X_val, y_val)"
   ]
  },
  {
   "cell_type": "markdown",
   "metadata": {},
   "source": [
    "##### 6.8 Best $\\lambda$"
   ]
  },
  {
   "cell_type": "code",
   "execution_count": 114,
   "metadata": {
    "ExecuteTime": {
     "end_time": "2019-08-09T03:04:59.663995Z",
     "start_time": "2019-08-09T03:04:59.654016Z"
    }
   },
   "outputs": [],
   "source": [
    "import matplotlib.pyplot as plt\n",
    "\n",
    "def plot_lambda_precision(lamb_regs,\n",
    "                          X_train=X_train, y_train=y_train,\n",
    "                          X_val=X_val, y_val=y_val, max_step=500):\n",
    "    precision = []\n",
    "    for lamb_reg in lamb_regs:\n",
    "        w = pegasos_accelerated(X_train, y_train, max_step, lamb_reg)\n",
    "        precision.append(evaluate(w, X_val, y_val))\n",
    "    plt.plot(lamb_regs, precision)\n",
    "    plt.grid()\n",
    "    plt.xlabel(\"$\\lambda$\")\n",
    "    plt.ylabel(\"Prediction\")\n",
    "    plt.show()"
   ]
  },
  {
   "cell_type": "code",
   "execution_count": 115,
   "metadata": {
    "ExecuteTime": {
     "end_time": "2019-08-09T03:06:04.885766Z",
     "start_time": "2019-08-09T03:05:00.368700Z"
    }
   },
   "outputs": [
    {
     "name": "stdout",
     "output_type": "stream",
     "text": [
      "Pegasos converge at epoch 25\n",
      "Pegasos converge at epoch 25\n",
      "Pegasos converge at epoch 25\n",
      "Pegasos converge at epoch 25\n",
      "Pegasos converge at epoch 32\n"
     ]
    },
    {
     "data": {
      "image/png": "[encoded data removed]",
      "text/plain": [
       "<Figure size 432x288 with 1 Axes>"
      ]
     },
     "metadata": {
      "needs_background": "light"
     },
     "output_type": "display_data"
    }
   ],
   "source": [
    "# turn 1\n",
    "plot_lambda_precision(np.linspace(0.1, 1.1, 5))"
   ]
  },
  {
   "cell_type": "code",
   "execution_count": 116,
   "metadata": {
    "ExecuteTime": {
     "end_time": "2019-08-09T03:07:45.062482Z",
     "start_time": "2019-08-09T03:06:42.620516Z"
    }
   },
   "outputs": [
    {
     "name": "stdout",
     "output_type": "stream",
     "text": [
      "Pegasos converge at epoch 25\n",
      "Pegasos converge at epoch 32\n",
      "Pegasos converge at epoch 23\n",
      "Pegasos converge at epoch 22\n",
      "Pegasos converge at epoch 29\n"
     ]
    },
    {
     "data": {
      "image/png": "[encoded data removed]",
      "text/plain": [
       "<Figure size 432x288 with 1 Axes>"
      ]
     },
     "metadata": {
      "needs_background": "light"
     },
     "output_type": "display_data"
    }
   ],
   "source": [
    "# turn 2\n",
    "plot_lambda_precision(np.linspace(0.1, 5, 5))"
   ]
  },
  {
   "cell_type": "code",
   "execution_count": 117,
   "metadata": {
    "ExecuteTime": {
     "end_time": "2019-08-09T03:09:15.521469Z",
     "start_time": "2019-08-09T03:08:04.690203Z"
    }
   },
   "outputs": [
    {
     "name": "stdout",
     "output_type": "stream",
     "text": [
      "Pegasos converge at epoch 27\n",
      "Pegasos converge at epoch 32\n",
      "Pegasos converge at epoch 32\n",
      "Pegasos converge at epoch 32\n",
      "Pegasos converge at epoch 31\n"
     ]
    },
    {
     "data": {
      "image/png": "[encoded data removed]",
      "text/plain": [
       "<Figure size 432x288 with 1 Axes>"
      ]
     },
     "metadata": {
      "needs_background": "light"
     },
     "output_type": "display_data"
    }
   ],
   "source": [
    "# turn 4\n",
    "plot_lambda_precision(np.linspace(1, 2, 5))"
   ]
  },
  {
   "cell_type": "markdown",
   "metadata": {},
   "source": [
    "因此，最优的$\\lambda$在1.3~1.7之间。"
   ]
  },
  {
   "cell_type": "code",
   "execution_count": 119,
   "metadata": {
    "ExecuteTime": {
     "end_time": "2019-08-09T03:19:42.126282Z",
     "start_time": "2019-08-09T03:19:42.122197Z"
    }
   },
   "outputs": [],
   "source": [
    "best_lamb_reg = 1.3"
   ]
  },
  {
   "cell_type": "markdown",
   "metadata": {},
   "source": [
    "#### 7. Error Analysis"
   ]
  },
  {
   "cell_type": "code",
   "execution_count": 118,
   "metadata": {
    "ExecuteTime": {
     "end_time": "2019-08-09T03:18:59.392599Z",
     "start_time": "2019-08-09T03:18:59.378490Z"
    }
   },
   "outputs": [],
   "source": [
    "def get_wrong_samples(w, X_val, y_val):\n",
    "    n = len(y_val)\n",
    "    wrongs = []\n",
    "    for i in range(n):\n",
    "        x_i = bag_words(X_val[i])\n",
    "        y_i = y_val[i]\n",
    "        if np.sign(dotProduct(w, x_i)) != y_i:\n",
    "            wrongs.append(i)\n",
    "    return wrongs"
   ]
  },
  {
   "cell_type": "code",
   "execution_count": 121,
   "metadata": {
    "ExecuteTime": {
     "end_time": "2019-08-09T03:20:15.785161Z",
     "start_time": "2019-08-09T03:20:06.565669Z"
    }
   },
   "outputs": [
    {
     "name": "stdout",
     "output_type": "stream",
     "text": [
      "Pegasos converge at epoch 32\n"
     ]
    }
   ],
   "source": [
    "w = pegasos_accelerated(X_train, y_train, max_step=1000, best_lamb_reg)\n",
    "wrongs = get_wrong_samples(w, X_val, y_val)"
   ]
  },
  {
   "cell_type": "code",
   "execution_count": 123,
   "metadata": {
    "ExecuteTime": {
     "end_time": "2019-08-09T03:20:36.868951Z",
     "start_time": "2019-08-09T03:20:36.859487Z"
    }
   },
   "outputs": [
    {
     "data": {
      "text/plain": [
       "78"
      ]
     },
     "execution_count": 123,
     "metadata": {},
     "output_type": "execute_result"
    }
   ],
   "source": [
    "len(wrongs)"
   ]
  },
  {
   "cell_type": "code",
   "execution_count": 139,
   "metadata": {
    "ExecuteTime": {
     "end_time": "2019-08-09T03:31:37.677171Z",
     "start_time": "2019-08-09T03:31:37.670942Z"
    }
   },
   "outputs": [],
   "source": [
    "import operator, collections\n",
    "\n",
    "def error_analysis(index=0):\n",
    "    wrong_sample_X = X_train[wrongs[index]]\n",
    "    wrong_sample_y = y_train[wrongs[index]]\n",
    "    contributions = defaultdict(float)\n",
    "    x_i = bag_words(wrong_sample_X)\n",
    "    for feature in x_i.keys():\n",
    "        contributions[feature] = np.abs(w[feature] * x_i[feature])\n",
    "    sorted_contribution = sorted(contributions.items(), key=operator.itemgetter(1), reverse=True)\n",
    "    return sorted_contribution"
   ]
  },
  {
   "cell_type": "code",
   "execution_count": 140,
   "metadata": {
    "ExecuteTime": {
     "end_time": "2019-08-09T03:31:44.198246Z",
     "start_time": "2019-08-09T03:31:44.174250Z"
    }
   },
   "outputs": [
    {
     "data": {
      "text/plain": [
       "[('the', 0.00807675481119783),\n",
       " ('of', 0.007932527046712112),\n",
       " ('any', 0.007547919674750327),\n",
       " ('and', 0.006538325323350568),\n",
       " ('this', 0.00608961672272855),\n",
       " ('is', 0.005624882814941373),\n",
       " ('if', 0.005384503207465199),\n",
       " ('at', 0.005288351364474801),\n",
       " ('as', 0.004487086006221),\n",
       " ('once', 0.004278757013075039),\n",
       " ('point', 0.004198630477249663),\n",
       " ('only', 0.004086453327094132),\n",
       " ('television', 0.003910174948278307),\n",
       " ('simply', 0.0038941496411132406),\n",
       " ('himself', 0.003269162661675305),\n",
       " ('his', 0.003044808361364257),\n",
       " ('he', 0.0028525046753833344),\n",
       " ('but', 0.0026922516037325974),\n",
       " ('that', 0.002564049146412033),\n",
       " ('life', 0.0024678973034215537),\n",
       " ('to', 0.00229161892460573),\n",
       " ('when', 0.0022755936174406423),\n",
       " ('very', 0.0022595683102755843),\n",
       " ('through', 0.0021794417744502026),\n",
       " ('each', 0.0021794417744502013),\n",
       " ('who', 0.002163416467285147),\n",
       " ('attempt', 0.0021153405457899057),\n",
       " ('movie', 0.002115340545789904),\n",
       " ('way', 0.002083289931459753),\n",
       " ('different', 0.0020352140099645297),\n",
       " ('all', 0.002019188702799451),\n",
       " ('moments', 0.0019871380884693077),\n",
       " ('plot', 0.0019871380884692986),\n",
       " ('woman', 0.001971112781304231),\n",
       " ('enough', 0.00197111278130423),\n",
       " ('becomes', 0.0018749609383137788),\n",
       " ('true', 0.0018429103239836259),\n",
       " ('one', 0.0018108597096534807),\n",
       " ('could', 0.0018108597096534807),\n",
       " ('a', 0.0017627837881581758),\n",
       " ('darryl', 0.0016345813308376602),\n",
       " ('are', 0.001602530716507483),\n",
       " (\"didn't\", 0.0014422776448567555),\n",
       " ('not', 0.0013942017233615222),\n",
       " ('major', 0.0013781764161964565),\n",
       " ('career', 0.0013621511090313797),\n",
       " ('gift', 0.0013461258018663076),\n",
       " ('especially', 0.0012980498803710798),\n",
       " ('flat', 0.0012659992660409263),\n",
       " ('comes', 0.0012499739588758593),\n",
       " ('side', 0.001217923344545705),\n",
       " ('premise', 0.0012018980373806325),\n",
       " ('instead', 0.0011858727302155563),\n",
       " ('kind', 0.0011858727302155546),\n",
       " ('end', 0.0011698474230504797),\n",
       " ('like', 0.001153822115885407),\n",
       " ('problems', 0.0011217715015552521),\n",
       " ('often', 0.0011217715015552506),\n",
       " ('without', 0.0010897208872251078),\n",
       " ('use', 0.0010897208872251006),\n",
       " ('turns', 0.001073695580060032),\n",
       " ('does', 0.0010576702728949448),\n",
       " ('some', 0.0010256196585647914),\n",
       " ('an', 0.0010095943513997356),\n",
       " ('unfunny', 0.0010095943513997296),\n",
       " ('family', 0.0010095943513997291),\n",
       " ('entire', 0.0010095943513997276),\n",
       " ('able', 0.0010095943513997272),\n",
       " ('greg', 0.0009935690442346502),\n",
       " ('help', 0.0009935690442346493),\n",
       " ('gags', 0.0009775437370695792),\n",
       " ('sense', 0.0009775437370695772),\n",
       " ('film', 0.0009615184299045061),\n",
       " ('comic', 0.0009615184299045017),\n",
       " ('it', 0.0009615184299044988),\n",
       " ('unlike', 0.0009454931227394263),\n",
       " ('r', 0.0009294678155743547),\n",
       " ('finds', 0.0009294678155743519),\n",
       " ('effective', 0.0009294678155743504),\n",
       " ('from', 0.0009134425084092763),\n",
       " ('damon', 0.000913442508409276),\n",
       " ('comedy', 0.0008653665869140614),\n",
       " ('more', 0.000865366586914059),\n",
       " ('initially', 0.0008653665869140519),\n",
       " ('four', 0.000849341279748976),\n",
       " ('wayans', 0.0008333159725839049),\n",
       " ('surprisingly', 0.0008333159725839022),\n",
       " ('with', 0.0008172906654188271),\n",
       " ('take', 0.0008172906654188241),\n",
       " ('for', 0.0008012653582537576),\n",
       " ('come', 0.0008012653582537539),\n",
       " ('brings', 0.0008012653582537503),\n",
       " ('man', 0.0008012653582537318),\n",
       " ('behind', 0.0007692147439236053),\n",
       " ('up', 0.0007531894367585229),\n",
       " ('five', 0.000737164129593458),\n",
       " ('vehicle', 0.0007371641295934522),\n",
       " ('out', 0.0007051135152633043),\n",
       " ('amusing', 0.0007051135152633036),\n",
       " ('enjoy', 0.0007051135152632983),\n",
       " ('new', 0.0006890882080982268),\n",
       " ('funny', 0.0006890882080982257),\n",
       " ('future', 0.0006890882080982244),\n",
       " ('leaving', 0.0006570375937680774),\n",
       " ('joke', 0.0006410122866030031),\n",
       " ('senses', 0.0006410122866029997),\n",
       " ('effects', 0.000624986979437931),\n",
       " ('emotional', 0.0006249869794379278),\n",
       " ('sets', 0.0006089616722728552),\n",
       " ('make', 0.000608961672272853),\n",
       " ('sitcom', 0.0006089616722728515),\n",
       " ('now', 0.0005929363651077802),\n",
       " ('forced', 0.0005929363651077775),\n",
       " ('its', 0.0005929363651077731),\n",
       " ('senseless', 0.0005769110579427052),\n",
       " ('director', 0.0005769110579427005),\n",
       " ('rest', 0.0005608857507776306),\n",
       " ('taylor', 0.0005608857507776292),\n",
       " ('set', 0.0005448604436125527),\n",
       " ('form', 0.0005448604436125521),\n",
       " ('screenwriters', 0.0005448604436125518),\n",
       " ('angle', 0.0005128098292824017),\n",
       " ('be', 0.000512809829282398),\n",
       " ('firm', 0.00046473390778717713),\n",
       " ('continues', 0.00046473390778717437),\n",
       " ('promising', 0.0004487086006221008),\n",
       " ('gag', 0.0004326832934570274),\n",
       " ('abilities', 0.0004326832934570264),\n",
       " ('ahead', 0.000432683293457026),\n",
       " ('drug', 0.00043268329345702415),\n",
       " ('highly', 0.0004006326791268768),\n",
       " ('shown', 0.00038460737196180345),\n",
       " ('above', 0.0003846073719618026),\n",
       " ('experiment', 0.0003685820647967276),\n",
       " ('witherspoon', 0.00036858206479672674),\n",
       " ('comedian', 0.0003685820647967266),\n",
       " ('learns', 0.00035255675763165264),\n",
       " ('essentially', 0.00035255675763165134),\n",
       " ('physical', 0.000352556757631651),\n",
       " ('hits', 0.00035255675763165096),\n",
       " ('generate', 0.0003525567576316508),\n",
       " ('position', 0.0003525567576316506),\n",
       " ('unconvincing', 0.0003365314504665764),\n",
       " ('projects', 0.0003365314504665762),\n",
       " ('territory', 0.0003365314504665761),\n",
       " ('by', 0.0003205061433015015),\n",
       " ('which', 0.00032050614330149824),\n",
       " ('showcase', 0.00030448083613642685),\n",
       " ('stale', 0.0003044808361364259),\n",
       " ('young', 0.00030448083613641665),\n",
       " ('easy', 0.00028845552897135377),\n",
       " ('goes', 0.0002884555289713532),\n",
       " ('starring', 0.0002884555289713499),\n",
       " ('uses', 0.0002884555289713485),\n",
       " ('loses', 0.0002724302218062775),\n",
       " ('alas', 0.0002724302218062754),\n",
       " ('brother', 0.0002564049146412044),\n",
       " ('talented', 0.00025640491464120057),\n",
       " ('body', 0.00025640491464119975),\n",
       " ('entirely', 0.0002403796074761266),\n",
       " (\"he's\", 0.00024037960747612562),\n",
       " ('exploring', 0.00024037960747612491),\n",
       " ('water', 0.00024037960747612445),\n",
       " ('genuinely', 0.0002243543003110508),\n",
       " ('after', 0.00022435430031104433),\n",
       " ('bros', 0.00019230368598090037),\n",
       " ('sincerity', 0.0001923036859809003),\n",
       " ('marlon', 0.00019230368598089845),\n",
       " ('him', 0.00017627837881583074),\n",
       " ('content', 0.00017627837881582732),\n",
       " ('sounds', 0.00017627837881582672),\n",
       " ('them', 0.00017627837881582637),\n",
       " ('granted', 0.00017627837881582626),\n",
       " ('guinea', 0.0001762783788158257),\n",
       " ('approaches', 0.00017627837881582548),\n",
       " ('raunchy', 0.00017627837881582545),\n",
       " ('would', 0.0001762783788158215),\n",
       " ('bigscreen', 0.0001602530716507508),\n",
       " ('wrapped', 0.0001602530716507506),\n",
       " (\"film's\", 0.00016025307165074972),\n",
       " ('anything', 0.0001602530716507441),\n",
       " (\"wayans's\", 0.0001442277644856752),\n",
       " ('quickly', 0.00014422776448567377),\n",
       " ('in', 0.00012820245732061606),\n",
       " ('however', 0.00012820245732060443),\n",
       " ('hilariously', 0.0001282024573206),\n",
       " ('these', 0.00012820245732059475),\n",
       " ('lift', 0.00011217715015552551),\n",
       " ('trifle', 0.00011217715015552536),\n",
       " ('sparks', 0.00011217715015552535),\n",
       " ('feeling', 9.615184299045402e-05),\n",
       " ('completely', 9.615184299045317e-05),\n",
       " ('experimental', 9.615184299045099e-05),\n",
       " ('romance', 9.615184299044997e-05),\n",
       " ('serious', 9.615184299044867e-05),\n",
       " ('raucous', 8.01265358253758e-05),\n",
       " ('penelope', 8.012653582537562e-05),\n",
       " ('controlling', 8.012653582537545e-05),\n",
       " ('esteemed', 8.012653582537524e-05),\n",
       " ('older', 8.012653582537485e-05),\n",
       " ('pig', 8.01265358253738e-05),\n",
       " ('craig', 6.410122866030006e-05),\n",
       " ('has', 6.410122866029747e-05),\n",
       " ('last', 6.410122866029726e-05),\n",
       " ('university', 4.8075921495226035e-05),\n",
       " ('substantial', 4.8075921495225594e-05),\n",
       " ('problematic', 4.807592149522539e-05),\n",
       " ('order', 4.8075921495225316e-05),\n",
       " ('corporate', 4.8075921495225296e-05),\n",
       " ('economics', 4.8075921495225276e-05),\n",
       " ('duration', 4.807592149522501e-05),\n",
       " ('onejoke', 4.8075921495224984e-05),\n",
       " ('go', 4.807592149522226e-05),\n",
       " ('than', 4.8075921495206404e-05),\n",
       " ('seems', 3.2050614330154536e-05),\n",
       " ('associate', 3.205061433015039e-05),\n",
       " ('initial', 3.205061433015037e-05),\n",
       " ('spheeris', 3.2050614330150274e-05),\n",
       " ('janice', 3.2050614330150274e-05),\n",
       " ('tamara', 3.2050614330150274e-05),\n",
       " ('gusto', 3.205061433015024e-05),\n",
       " ('limp', 3.205061433015021e-05),\n",
       " ('wb', 3.205061433015004e-05),\n",
       " ('bogus', 3.205061433015002e-05),\n",
       " ('superhuman', 3.205061433014981e-05),\n",
       " ('broad', 3.205061433014867e-05),\n",
       " ('yearns', 1.602530716507544e-05),\n",
       " ('strive', 1.602530716507532e-05),\n",
       " ('dire', 1.602530716507518e-05),\n",
       " ('benefits', 1.6025307165075178e-05),\n",
       " ('fantasycomedy', 1.6025307165075022e-05),\n",
       " ('heightens', 1.6025307165075022e-05),\n",
       " ('senseful', 1.6025307165075022e-05),\n",
       " ('himyessenseless', 1.6025307165075022e-05),\n",
       " ('erb', 1.6025307165075022e-05),\n",
       " ('mazin', 1.6025307165075022e-05),\n",
       " ('recycle', 1.6025307165075022e-05),\n",
       " ('senselessness', 1.6025307165075022e-05),\n",
       " ('goround', 1.6025307165075022e-05),\n",
       " ('treading', 1.6025307165075022e-05),\n",
       " ('cashstrapped', 1.6025307165075022e-05),\n",
       " (\"fizzlesdarryl's\", 1.6025307165075022e-05),\n",
       " ('oncepromising', 1.6025307165075022e-05),\n",
       " ('comebackon', 1.6025307165075022e-05),\n",
       " ('stratford', 1.6025307165075e-05),\n",
       " ('land', 1.60253071650744e-05),\n",
       " ('grows', 9.228536631016763e-19),\n",
       " ('financial', 9.112890808572944e-19),\n",
       " ('6th', 1.387749869325829e-20),\n",
       " ('blanket', 9.251665795505526e-21),\n",
       " ('straits', 6.938749346629144e-21)]"
      ]
     },
     "execution_count": 140,
     "metadata": {},
     "output_type": "execute_result"
    }
   ],
   "source": [
    "error_analysis(0)"
   ]
  },
  {
   "cell_type": "code",
   "execution_count": 141,
   "metadata": {
    "ExecuteTime": {
     "end_time": "2019-08-09T03:31:54.962145Z",
     "start_time": "2019-08-09T03:31:54.942689Z"
    }
   },
   "outputs": [
    {
     "data": {
      "text/plain": [
       "[('and', 0.006538325323350568),\n",
       " ('that', 0.005640908122106473),\n",
       " ('the', 0.004487086006221016),\n",
       " ('love', 0.0036537700336370894),\n",
       " ('sex', 0.0032691626616753195),\n",
       " ('between', 0.0030287830541991874),\n",
       " ('on', 0.003012757747034084),\n",
       " ('evil', 0.0028845552897135136),\n",
       " ('as', 0.0022435430031105),\n",
       " ('is', 0.0018749609383137912),\n",
       " ('best', 0.0018589356311486933),\n",
       " ('one', 0.0018108597096534807),\n",
       " ('austin', 0.0016826572523328696),\n",
       " ('about', 0.001666631945167799),\n",
       " ('relationship', 0.0016345813308376628),\n",
       " ('are', 0.001602530716507483),\n",
       " ('do', 0.0015224041806821225),\n",
       " (\"it's\", 0.0014903535663519734),\n",
       " ('scene', 0.001282024573205999),\n",
       " ('female', 0.0012339486517107783),\n",
       " ('this', 0.00121792334454571),\n",
       " ('leading', 0.0012179233445457085),\n",
       " ('make', 0.001217923344545706),\n",
       " ('will', 0.0012179233445457007),\n",
       " ('real', 0.001201898037380632),\n",
       " ('gun', 0.0011858727302155537),\n",
       " ('because', 0.001169847423050481),\n",
       " ('bit', 0.0011377968087203324),\n",
       " ('scott', 0.0011057461943901818),\n",
       " ('himself', 0.0010897208872251017),\n",
       " ('movie', 0.001057670272894952),\n",
       " ('does', 0.0010576702728949448),\n",
       " ('fat', 0.0010256196585648016),\n",
       " ('all', 0.0010095943513997254),\n",
       " ('your', 0.0009935690442346614),\n",
       " ('what', 0.0009454931227394289),\n",
       " ('unique', 0.0009454931227394271),\n",
       " ('overall', 0.0009294678155743547),\n",
       " ('two', 0.0008974172012442006),\n",
       " (\"don't\", 0.0008653665869140504),\n",
       " ('redefines', 0.0008012653582537511),\n",
       " (\"'\", 0.0007371641295934559),\n",
       " ('says', 0.0007371641295934524),\n",
       " ('felicity', 0.0007211388224283774),\n",
       " ('there', 0.0007051135152633006),\n",
       " ('a', 0.0007051135152632704),\n",
       " ('but', 0.0006730629009331494),\n",
       " ('lot', 0.0006570375937680768),\n",
       " ('every', 0.0006570375937680746),\n",
       " ('me', 0.0006410122866030065),\n",
       " ('it', 0.0006410122866029992),\n",
       " ('which', 0.0006410122866029965),\n",
       " ('his', 0.0006089616722728514),\n",
       " ('men', 0.0005769110579427093),\n",
       " ('breasts', 0.0005608857507776265),\n",
       " ('with', 0.0005448604436125514),\n",
       " ('our', 0.000544860443612548),\n",
       " ('of', 0.0005288351364474742),\n",
       " ('moments', 0.0004967845221173269),\n",
       " ('resembles', 0.0004807592149522508),\n",
       " ('first', 0.0004647339077871782),\n",
       " ('etc', 0.00046473390778717654),\n",
       " ('not', 0.0004647339077871741),\n",
       " ('affair', 0.00044870860062210286),\n",
       " ('turn', 0.00044870860062210194),\n",
       " ('silly', 0.00041665798629195416),\n",
       " ('finale', 0.0004166579862919509),\n",
       " ('forgotten', 0.00040063267912687675),\n",
       " ('!', 0.0004006326791268744),\n",
       " ('man', 0.0004006326791268659),\n",
       " ('means', 0.0003846073719617993),\n",
       " ('an', 0.0003365314504665786),\n",
       " ('international', 0.00030448083613642413),\n",
       " ('more', 0.000288455528971353),\n",
       " ('missing', 0.0002724302218062774),\n",
       " ('happen', 0.0002724302218062767),\n",
       " ('www', 0.00025640491464120084),\n",
       " ('body', 0.00025640491464119975),\n",
       " ('be', 0.000256404914641199),\n",
       " ('weird', 0.00024037960747612603),\n",
       " ('richard', 0.00024037960747612188),\n",
       " ('myers', 0.00020832899314597667),\n",
       " ('shagwell', 0.0002083289931459758),\n",
       " ('to', 0.00020832899314597548),\n",
       " ('probably', 0.00020832899314597022),\n",
       " ('crazy', 0.00019230368598090156),\n",
       " ('dick', 0.00019230368598089945),\n",
       " ('babe', 0.00017627837881582697),\n",
       " ('require', 0.00017627837881582488),\n",
       " ('johnny', 0.00017627837881582388),\n",
       " ('i', 0.00017627837881582282),\n",
       " ('?', 0.00017627837881582204),\n",
       " ('spy', 0.00016025307165075302),\n",
       " ('bastard', 0.0001602530716507505),\n",
       " ('wear', 0.00016025307165074877),\n",
       " ('anything', 0.0001602530716507441),\n",
       " ('balls', 0.00014422776448567688),\n",
       " ('goes', 0.0001442277644856766),\n",
       " ('chess', 0.0001442277644856758),\n",
       " ('solo', 0.00014422776448567566),\n",
       " ('children', 0.000128202457320601),\n",
       " ('horny', 0.00011217715015552727),\n",
       " ('implied', 0.00011217715015552551),\n",
       " ('tent', 0.00011217715015552519),\n",
       " ('son', 0.00011217715015552215),\n",
       " ('sick', 9.61518429904503e-05),\n",
       " ('vaguely', 8.012653582537569e-05),\n",
       " ('nowadays', 8.012653582537547e-05),\n",
       " ('controlling', 8.012653582537545e-05),\n",
       " ('in', 6.410122866030803e-05),\n",
       " ('screen', 6.410122866030068e-05),\n",
       " ('mojo', 6.410122866029982e-05),\n",
       " ('mike', 6.410122866029911e-05),\n",
       " ('has', 6.410122866029747e-05),\n",
       " ('dr', 4.807592149523019e-05),\n",
       " ('com', 4.807592149522609e-05),\n",
       " ('zip', 4.807592149522549e-05),\n",
       " ('eggs', 4.8075921495224944e-05),\n",
       " ('oral', 3.205061433015025e-05),\n",
       " ('ivana', 3.205061433015013e-05),\n",
       " ('bananas', 3.2050614330150084e-05),\n",
       " ('frau', 3.205061433015003e-05),\n",
       " ('behave', 3.2050614330149996e-05),\n",
       " ('icecream', 3.205061433014991e-05),\n",
       " ('wrongly', 3.2050614330149536e-05),\n",
       " ('mini', 3.205061433014923e-05),\n",
       " ('`oh', 1.6025307165075015e-05),\n",
       " ('shagadellic', 1.6025307165075015e-05),\n",
       " ('fembots', 1.6025307165075015e-05),\n",
       " ('nutbiting', 1.6025307165075015e-05),\n",
       " ('sausages', 1.6025307165075015e-05),\n",
       " ('humpalot', 1.6025307165075015e-05),\n",
       " ('farbissina', 1.6025307165075015e-05),\n",
       " ('weanies', 1.6025307165075015e-05),\n",
       " ('redefined', 1.6025307165075015e-05),\n",
       " ('hair', 2.049243973704474e-18),\n",
       " ('pity', 6.661199372763979e-19),\n",
       " ('anal', 2.5904664227415475e-19)]"
      ]
     },
     "execution_count": 141,
     "metadata": {},
     "output_type": "execute_result"
    }
   ],
   "source": [
    "error_analysis(1)"
   ]
  },
  {
   "cell_type": "markdown",
   "metadata": {},
   "source": [
    "可以看到贡献最大的单词均为常用词(`and`, `that`, `the`等)，其不含明确的感情色彩，一般我们将此类词标记为停用词排除。"
   ]
  },
  {
   "cell_type": "code",
   "execution_count": null,
   "metadata": {},
   "outputs": [],
   "source": []
  }
 ],
 "metadata": {
  "kernelspec": {
   "display_name": "Python 3",
   "language": "python",
   "name": "python3"
  },
  "language_info": {
   "codemirror_mode": {
    "name": "ipython",
    "version": 3
   },
   "file_extension": ".py",
   "mimetype": "text/x-python",
   "name": "python",
   "nbconvert_exporter": "python",
   "pygments_lexer": "ipython3",
   "version": "3.6.8"
  },
  "toc": {
   "nav_menu": {},
   "number_sections": false,
   "sideBar": true,
   "skip_h1_title": false,
   "title_cell": "Table of Contents",
   "title_sidebar": "Contents",
   "toc_cell": false,
   "toc_position": {
    "height": "calc(100% - 180px)",
    "left": "10px",
    "top": "150px",
    "width": "273.2px"
   },
   "toc_section_display": true,
   "toc_window_display": true
  }
 },
 "nbformat": 4,
 "nbformat_minor": 2
}
